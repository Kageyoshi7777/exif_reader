{
 "cells": [
  {
   "cell_type": "code",
   "execution_count": 1,
   "outputs": [],
   "source": [
    "import exifread\n",
    "import json\n",
    "from arrays import film_simulation, noise_reduction, grain_effect, \\\n",
    "                   color_chrome_effect, color_chrome_effect_blue, color_number, \\\n",
    "                   color_text, sharp, dynamic_range\n",
    "import simulations as sml\n",
    "\n",
    "f = open(\"images/waxy.JPG\", 'rb')\n",
    "\n",
    "tags = exifread.process_file(f)\n",
    "datas = {\"Camera\": tags.pop(\"Image Model\"), \"Simulation\": tags.pop(\"MakerNote Tag 0x1401\"),\n",
    "         \"DynamicRangeSetting\": tags.pop(\"MakerNote Tag 0x1402\"), \"Highlights\": tags.pop(\"MakerNote Tag 0x1041\"),\n",
    "         \"Shadows\": tags.pop(\"MakerNote Tag 0x1040\"), \"Color\": tags.pop(\"MakerNote Saturation\"),\n",
    "         \"NoiseReduction\": tags.pop(\"MakerNote Tag 0x100E\"), \"Sharpness\": tags.pop(\"MakerNote Sharpness\"),\n",
    "         \"GrainEffect\": tags.pop(\"MakerNote Tag 0x1047\"), \"ColorChromeEffect\": tags.pop(\"MakerNote Tag 0x1048\"),\n",
    "         \"White Balance\": tags.pop(\"MakerNote WhiteBalance\"),\n",
    "         \"White Balance Shift\": tags.pop(\"MakerNote WhiteBalanceFineTune\")}\n",
    "\n",
    "# not all cameras does have this parameters\n",
    "try:\n",
    "    # datas[\"Lens\"] = tags.pop(\"EXIF LensModel\")\n",
    "    datas[\"Clarity\"] = tags.pop(\"MakerNote Tag 0x100F\")\n",
    "    datas[\"GrainEffectSize\"] = tags.pop(\"MakerNote Tag 0x104C\")\n",
    "    datas[\"ColorChromeFXBlue\"] = tags.pop(\"MakerNote Tag 0x104E\")\n",
    "except KeyError:\n",
    "    pass\n",
    "\n",
    "for key in datas:\n",
    "    datas[key] = str(datas[key])\n",
    "#     print(key, \":\", datas[key])\n",
    "\n",
    "\n",
    "datas[\"Simulation\"] = film_simulation.get(datas[\"Simulation\"])\n",
    "datas[\"NoiseReduction\"] = noise_reduction.get(datas[\"NoiseReduction\"])\n",
    "datas[\"Highlights\"] = int(datas[\"Highlights\"]) / -16\n",
    "datas[\"Shadows\"] = int(datas[\"Shadows\"]) / -16\n",
    "datas[\"GrainEffect\"] = grain_effect.get(datas[\"GrainEffect\"])\n",
    "datas[\"ColorChromeEffect\"] = color_chrome_effect.get(datas[\"ColorChromeEffect\"])\n",
    "datas[\"ColorChromeEffect\"] = color_chrome_effect.get(datas[\"ColorChromeEffect\"])\n",
    "datas[\"Color\"] = color_number.get(datas[\"Color\"])\n",
    "datas[\"White Balance Shift\"] = [x / 10 for x in json.loads(datas[\"White Balance Shift\"])]\n",
    "datas[\"Sharpness\"] = sharp.get(datas[\"Sharpness\"].lower())\n",
    "datas[\"DynamicRangeSetting\"] = dynamic_range.get(datas[\"DynamicRangeSetting\"].lower())\n",
    "\n",
    "\n",
    "try:\n",
    "    datas[\"ColorChromeFXBlue\"] = color_chrome_effect_blue.get(datas[\"ColorChromeFXBlue\"])\n",
    "except KeyError:\n",
    "    pass"
   ],
   "metadata": {
    "collapsed": false,
    "pycharm": {
     "name": "#%%\n"
    }
   }
  },
  {
   "cell_type": "code",
   "execution_count": 2,
   "outputs": [
    {
     "name": "stdout",
     "output_type": "stream",
     "text": [
      "Camera : X-T30\n",
      "Simulation : Astia\n",
      "DynamicRangeSetting : Auto\n",
      "Highlights : 1.0\n",
      "Shadows : 3.0\n",
      "Color : 4\n",
      "NoiseReduction : -3\n",
      "Sharpness : 1\n",
      "GrainEffect : Off\n",
      "ColorChromeEffect : None\n",
      "White Balance : Auto\n",
      "White Balance Shift : [4.0, -10.0]\n",
      "dicta\n"
     ]
    }
   ],
   "source": [
    "for key in datas:\n",
    "    datas[key] = str(datas[key])\n",
    "    print(key, \":\", datas[key])\n",
    "\n",
    "\n",
    "for key, value in sml.dict_dict.items():\n",
    "    if value == datas:\n",
    "        print(key)"
   ],
   "metadata": {
    "collapsed": false,
    "pycharm": {
     "name": "#%%\n"
    }
   }
  },
  {
   "cell_type": "code",
   "execution_count": 3,
   "outputs": [],
   "source": [
    "with open(\"simulations/\" + datas['Camera'] + \".json\") as json_file:\n",
    "    simulations = json.load(json_file)"
   ],
   "metadata": {
    "collapsed": false,
    "pycharm": {
     "name": "#%%\n"
    }
   }
  },
  {
   "cell_type": "code",
   "execution_count": 5,
   "outputs": [
    {
     "data": {
      "text/plain": "{'Camera': 'X-T30',\n 'Simulation': 'Velvia',\n 'DynamicRangeSetting': 'Auto',\n 'Highlights': '1.0',\n 'Shadows': '3.0',\n 'Color': '4',\n 'NoiseReduction': '-3',\n 'Sharpness': '1',\n 'GrainEffect': 'Off',\n 'ColorChromeEffect': 'None',\n 'White Balance': 'Auto',\n 'White Balance Shift': '[4.0, -10.0]'}"
     },
     "execution_count": 5,
     "metadata": {},
     "output_type": "execute_result"
    }
   ],
   "source": [
    "simulations['Test1']"
   ],
   "metadata": {
    "collapsed": false,
    "pycharm": {
     "name": "#%%\n"
    }
   }
  },
  {
   "cell_type": "code",
   "execution_count": null,
   "outputs": [],
   "source": [],
   "metadata": {
    "collapsed": false,
    "pycharm": {
     "name": "#%%\n"
    }
   }
  }
 ],
 "metadata": {
  "kernelspec": {
   "display_name": "Python 3",
   "language": "python",
   "name": "python3"
  },
  "language_info": {
   "codemirror_mode": {
    "name": "ipython",
    "version": 2
   },
   "file_extension": ".py",
   "mimetype": "text/x-python",
   "name": "python",
   "nbconvert_exporter": "python",
   "pygments_lexer": "ipython2",
   "version": "2.7.6"
  }
 },
 "nbformat": 4,
 "nbformat_minor": 0
}